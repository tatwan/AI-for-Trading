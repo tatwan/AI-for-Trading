{
 "cells": [
  {
   "cell_type": "markdown",
   "metadata": {},
   "source": [
    "# 实战项目 3：Smart Beta 投资组合与投资组合优化\n",
    "\n",
    "## 概述\n",
    "\n",
    "\n",
    "Smart beta 的含义很丰富，不过在实践中，如果我们使用某个指数的股票池并应用市值加权之外的其他加权方法，则属于 smart beta 基金。Smart Beta 投资组合通常使投资者能够暴露于一种或多种市场特性（或因素），这些特性能够预测价格并使投资者能够广泛分散暴露于特定的市场的风险。Smart Beta 投资组合通常以动量、收益质量、低波动率和股息或其中几种组合形式为目标。Smart Beta 投资组合一般很少再平衡，遵循相对简单的规则或算法（被动管理）。这些类型的基金模型很少有变化，如果是美国共同基金或 ETF，则改变模型需要向美国证券交易委员会提交大量资料。Smart Beta portfolios 通常只做多，不做空股票。\n",
    "\n",
    "相反，完全侧重于 alpha 的基金可能会使用多个模型或算法来创建投资组合。投资组合经理会决定是否升级或更改模型类型，以及多久再平衡一次投资组合，从而相对于股票基准来说最大化业绩。经理可能会决定做空投资组合中的股票。\n",
    "\n",
    "假设你是一名投资组合经理，想要尝试不同的投资组合加权方法。\n",
    "\n",
    "一种设计投资组合的方法是查看某些基于过去走势的会计衡量值（基本面）并寻找业绩更好的股票。\n",
    "\n",
    "\n",
    "例如，首先假设发放股息的股票往往比不发放股息的股票业绩好。并非所有公司都这样。例如，Apple 不发放股息，但是历史业绩很好。关于发放股息股票的假设如下所示：\n",
    "\n",
    "定期发放股息的公司在分配可用现金时可能更谨慎，并且表明他们更关心股东的利益。例如，CEO 可能决定将现金重新投资到收益率低的宠物项目上。或者，CEO 可能会做出分析，发现重新投资公司产品产生的收益率比分散化投资组合的低，所以认为（以股息形式）向股东发放现金对股东更有利。根据这种假设，股息不仅能体现公司的业绩（收益和现金流），而且表明公司以股东利益为宗旨。当然，需要检验这种假设在实践中是否成立。\n",
    "\n",
    "\n",
    "你还可能提出其他假设，根据该假设设计一个投资组合，然后将其变成 ETF。你发现投资者希望投资被动 beta 基金，但是希望风险暴露水平更低（波动性更小）。如果基金的波动性很低，但是收益率依然与指数的相似，那么投资时间范围更短（更容易规避风险）的投资者更喜欢这种基金。\n",
    "\n",
    "提议投资组合的目标是设计一个紧密跟踪指数的投资组合，同时能够最小化投资组合方差。此外，如果该投资组合的收益率与指数的差不多，但是波动率更小，那么它的风险调整收益率更高（相同的收益率，波动性更小）。\n",
    "\n",
    "我们可以通过以下两种方法（以及其他方法）设计 Smart Beta ETF：替代加权和最低波动性 ETF。\n",
    "\n",
    "\n",
    "## 项目说明\n",
    "每个问题都包含需要实现的函数和如何实现该函数的说明。`# TODO` 注释表示需要实现的函数部分。实现函数后，请运行单元格并用我们提供的单元测试检测代码。对于每个问题，我们都在  `project_tests`  软件包中提供了一个或多个单元测试。这些单元测试不会指出你的答案是否正确，但是会提醒你重大错误。当你提交项目后，我们会检查你的答案是否正确。\n",
    "\n",
    "## 软件包\n",
    "在实现函数时，你只需使用在教室中用到的软件包，例如 [Pandas][1] 和 [Numpy][2]。我们会为你导入这些软件包。建议不要添加任何导入语句，否则审阅者可能无法运行你的代码。\n",
    "\n",
    "我们还导入了以下其他软件包：`helper`、`project_helper` 和 `project_tests`。这些是专门帮助你解决问题的自定义软件包。`helper` 和 `project_helper` 模块包含实用函数和图形函数。 `project_tests` 包含所有问题的单元测试。\n",
    "### 安装软件包"
   ]
  },
  {
   "cell_type": "code",
   "execution_count": null,
   "metadata": {},
   "outputs": [],
   "source": [
    "import sys\n",
    "!{sys.executable} -m pip install -r requirements.txt"
   ]
  },
  {
   "cell_type": "markdown",
   "metadata": {},
   "source": [
    "### 加载软件包"
   ]
  },
  {
   "cell_type": "code",
   "execution_count": null,
   "metadata": {},
   "outputs": [],
   "source": [
    "import pandas as pd\n",
    "import numpy as np\n",
    "import helper\n",
    "import project_helper\n",
    "import project_tests"
   ]
  },
  {
   "cell_type": "markdown",
   "metadata": {},
   "source": [
    "## 市场数据\n",
    "### 加载数据\n",
    "对于股票池，我们将选择大额股票。这个股票池的流动性很高，所以使用它。"
   ]
  },
  {
   "cell_type": "code",
   "execution_count": null,
   "metadata": {},
   "outputs": [],
   "source": [
    "df = pd.read_csv('../../data/project_3/eod-quotemedia.csv')\n",
    "\n",
    "percent_top_dollar = 0.2\n",
    "high_volume_symbols = project_helper.large_dollar_volume_stocks(df, 'adj_close', 'adj_volume', percent_top_dollar)\n",
    "df = df[df['ticker'].isin(high_volume_symbols)]\n",
    "\n",
    "close = df.reset_index().pivot(index='date', columns='ticker', values='adj_close')\n",
    "volume = df.reset_index().pivot(index='date', columns='ticker', values='adj_volume')\n",
    "dividends = df.reset_index().pivot(index='date', columns='ticker', values='dividends')"
   ]
  },
  {
   "cell_type": "markdown",
   "metadata": {},
   "source": [
    "### 查看数据\n",
    "我们看看收盘价矩阵，了解这两个二维矩阵看起来如何。"
   ]
  },
  {
   "cell_type": "code",
   "execution_count": null,
   "metadata": {},
   "outputs": [],
   "source": [
    "project_helper.print_dataframe(close)"
   ]
  },
  {
   "cell_type": "markdown",
   "metadata": {},
   "source": [
    "# 第一部分：Smart Beta 投资组合\n",
    "在第一部分，你将构建一个投资组合，并根据股息收益率选择投资组合权重。这样的投资组合可以添加到 smart beta ETF 中。你需要将此投资组合与市值加权的指数进行比较，看看它的业绩如何。\n",
    "\n",
    "注意，在实践中，你很可能会从数据供应商（例如创建指数的公司，比如 MSCI、FTSE、标普）那获得指数权重，但是对于这道练习，我们将模拟市值加权的指数。\n",
    "\n",
    "## 指数权重\n",
    "我们将使用的指数基于大额股票。请实现 `generate_dollar_volume_weights` 以生成该指数的权重。对于每个日期，请根据该日期的成交额生成权重。例如，假设下面是收盘价和成交数据："
   ]
  },
  {
   "cell_type": "code",
   "execution_count": null,
   "metadata": {},
   "outputs": [],
   "source": [
    "                 Prices\n",
    "               A         B         ...\n",
    "2013-07-08     2         2         ...\n",
    "2013-07-09     5         6         ...\n",
    "2013-07-10     1         2         ...\n",
    "2013-07-11     6         5         ...\n",
    "...            ...       ...       ...\n",
    "\n",
    "                 Volume\n",
    "               A         B         ...\n",
    "2013-07-08     100       340       ...\n",
    "2013-07-09     240       220       ...\n",
    "2013-07-10     120       500       ...\n",
    "2013-07-11     10        100       ...\n",
    "...            ...       ...       ..."
   ]
  },
  {
   "cell_type": "markdown",
   "metadata": {},
   "source": [
    "函数 `generate_dollar_volume_weights` 创建的权重应该如下所示："
   ]
  },
  {
   "cell_type": "code",
   "execution_count": null,
   "metadata": {},
   "outputs": [],
   "source": [
    "               A         B         ...\n",
    "2013-07-08     0.126..   0.194..   ...\n",
    "2013-07-09     0.759..   0.377..   ...\n",
    "2013-07-10     0.075..   0.285..   ...\n",
    "2013-07-11     0.037..   0.142..   ...\n",
    "...            ...       ...       ..."
   ]
  },
  {
   "cell_type": "code",
   "execution_count": null,
   "metadata": {},
   "outputs": [],
   "source": [
    "def generate_dollar_volume_weights(close, volume):\n",
    "    \"\"\"\n",
    "    Generate dollar volume weights.\n",
    "\n",
    "    Parameters\n",
    "    ----------\n",
    "    close : DataFrame\n",
    "        Close price for each ticker and date\n",
    "    volume : str\n",
    "        Volume for each ticker and date\n",
    "\n",
    "    Returns\n",
    "    -------\n",
    "    dollar_volume_weights : DataFrame\n",
    "        The dollar volume weights for each ticker and date\n",
    "    \"\"\"\n",
    "    assert close.index.equals(volume.index)\n",
    "    assert close.columns.equals(volume.columns)\n",
    "    \n",
    "    #TODO: Implement function\n",
    "\n",
    "    return None\n",
    "\n",
    "project_tests.test_generate_dollar_volume_weights(generate_dollar_volume_weights)"
   ]
  },
  {
   "cell_type": "markdown",
   "metadata": {},
   "source": [
    "### 查看数据\n",
    "使用 `generate_dollar_volume_weights` 生成指数权重并通过热图查看这些权重。"
   ]
  },
  {
   "cell_type": "code",
   "execution_count": null,
   "metadata": {},
   "outputs": [],
   "source": [
    "index_weights = generate_dollar_volume_weights(close, volume)\n",
    "project_helper.plot_weights(index_weights, 'Index Weights')"
   ]
  },
  {
   "cell_type": "markdown",
   "metadata": {},
   "source": [
    "## 投资组合权重\n",
    "获得指数权重后，我们根据股息选择投资组合权重。通常，你会根据往迹股息收益率计算权重，但是我们将简化为计算一段时间的总股息收益率。\n",
    "\n",
    "实现 `calculate_dividend_weights` 以根据每支股票在一段时间的总股息收益率返回该股票的权重。类似于生成指数权重，但使用的是股息数据。\n",
    "例如，假设以下是 `dividends` 数据："
   ]
  },
  {
   "cell_type": "code",
   "execution_count": null,
   "metadata": {},
   "outputs": [],
   "source": [
    "                 Prices\n",
    "               A         B\n",
    "2013-07-08     0         0\n",
    "2013-07-09     0         1\n",
    "2013-07-10     0.5       0\n",
    "2013-07-11     0         0\n",
    "2013-07-12     2         0\n",
    "...            ...       ..."
   ]
  },
  {
   "cell_type": "markdown",
   "metadata": {},
   "source": [
    "函数 `calculate_dividend_weights` 创建的权重应该如下所示："
   ]
  },
  {
   "cell_type": "code",
   "execution_count": null,
   "metadata": {},
   "outputs": [],
   "source": [
    "               A         B\n",
    "2013-07-08     NaN       NaN\n",
    "2013-07-09     0         1\n",
    "2013-07-10     0.333..   0.666..\n",
    "2013-07-11     0.333..   0.666..\n",
    "2013-07-12     0.714..   0.285..\n",
    "...            ...       ..."
   ]
  },
  {
   "cell_type": "code",
   "execution_count": null,
   "metadata": {},
   "outputs": [],
   "source": [
    "def calculate_dividend_weights(dividends):\n",
    "    \"\"\"\n",
    "    Calculate dividend weights.\n",
    "\n",
    "    Parameters\n",
    "    ----------\n",
    "    dividends : DataFrame\n",
    "        Dividend for each stock and date\n",
    "\n",
    "    Returns\n",
    "    -------\n",
    "    dividend_weights : DataFrame\n",
    "        Weights for each stock and date\n",
    "    \"\"\"\n",
    "    #TODO: Implement function\n",
    "\n",
    "    return None\n",
    "\n",
    "project_tests.test_calculate_dividend_weights(calculate_dividend_weights)"
   ]
  },
  {
   "cell_type": "markdown",
   "metadata": {},
   "source": [
    "### 查看数据\n",
    "与指数权重一样，我们生成 ETF 权重并通过热图查看这些权重。"
   ]
  },
  {
   "cell_type": "code",
   "execution_count": null,
   "metadata": {},
   "outputs": [],
   "source": [
    "etf_weights = calculate_dividend_weights(dividends)\n",
    "project_helper.plot_weights(etf_weights, 'ETF Weights')"
   ]
  },
  {
   "cell_type": "markdown",
   "metadata": {},
   "source": [
    "## 收益率\n",
    "实现 `generate_returns` 以针对股价数据中的所有股票和日期生成收益率数据。你可能注意到了，我们实现的是收益率，而不是对数收益率。因为我们不处理波动性，所以不用使用对数收益率。"
   ]
  },
  {
   "cell_type": "code",
   "execution_count": null,
   "metadata": {},
   "outputs": [],
   "source": [
    "def generate_returns(prices):\n",
    "    \"\"\"\n",
    "    Generate returns for ticker and date.\n",
    "\n",
    "    Parameters\n",
    "    ----------\n",
    "    prices : DataFrame\n",
    "        Price for each ticker and date\n",
    "\n",
    "    Returns\n",
    "    -------\n",
    "    returns : Dataframe\n",
    "        The returns for each ticker and date\n",
    "    \"\"\"\n",
    "    #TODO: Implement function\n",
    "\n",
    "    return None\n",
    "\n",
    "project_tests.test_generate_returns(generate_returns)"
   ]
  },
  {
   "cell_type": "markdown",
   "metadata": {},
   "source": [
    "### 查看数据\n",
    "使用 `generate_returns` 生成收盘价收益率并通过热图查看这些收益率。"
   ]
  },
  {
   "cell_type": "code",
   "execution_count": null,
   "metadata": {},
   "outputs": [],
   "source": [
    "returns = generate_returns(close)\n",
    "project_helper.plot_returns(returns, 'Close Returns')"
   ]
  },
  {
   "cell_type": "markdown",
   "metadata": {},
   "source": [
    "## 加权收益率\n",
    "计算每支股票的收益率后，我们利用这些收益率计算指数或 ETF 的收益率。实现 `generate_weighted_returns` 以使用收益率和权重创建加权收益率。"
   ]
  },
  {
   "cell_type": "code",
   "execution_count": null,
   "metadata": {},
   "outputs": [],
   "source": [
    "def generate_weighted_returns(returns, weights):\n",
    "    \"\"\"\n",
    "    Generate weighted returns.\n",
    "\n",
    "    Parameters\n",
    "    ----------\n",
    "    returns : DataFrame\n",
    "        Returns for each ticker and date\n",
    "    weights : DataFrame\n",
    "        Weights for each ticker and date\n",
    "\n",
    "    Returns\n",
    "    -------\n",
    "    weighted_returns : DataFrame\n",
    "        Weighted returns for each ticker and date\n",
    "    \"\"\"\n",
    "    assert returns.index.equals(weights.index)\n",
    "    assert returns.columns.equals(weights.columns)\n",
    "    \n",
    "    #TODO: Implement function\n",
    "\n",
    "    return None\n",
    "\n",
    "project_tests.test_generate_weighted_returns(generate_weighted_returns)"
   ]
  },
  {
   "cell_type": "markdown",
   "metadata": {},
   "source": [
    "### 查看数据\n",
    "使用 `generate_weighted_returns` 生成 ETF 和指数收益率并通过热图查看它们。"
   ]
  },
  {
   "cell_type": "code",
   "execution_count": null,
   "metadata": {},
   "outputs": [],
   "source": [
    "index_weighted_returns = generate_weighted_returns(returns, index_weights)\n",
    "etf_weighted_returns = generate_weighted_returns(returns, etf_weights)\n",
    "project_helper.plot_returns(index_weighted_returns, 'Index Returns')\n",
    "project_helper.plot_returns(etf_weighted_returns, 'ETF Returns')"
   ]
  },
  {
   "cell_type": "markdown",
   "metadata": {},
   "source": [
    "## 累积收益率\n",
    "为了比较 ETF 和指数的业绩，我们将计算跟踪误差。首先需要计算指数和 ETF 累积收益率。实现 `calculate_cumulative_returns` 以根据给定收益率生成一段时间的累积收益率。"
   ]
  },
  {
   "cell_type": "code",
   "execution_count": null,
   "metadata": {},
   "outputs": [],
   "source": [
    "def calculate_cumulative_returns(returns):\n",
    "    \"\"\"\n",
    "    Calculate cumulative returns.\n",
    "\n",
    "    Parameters\n",
    "    ----------\n",
    "    returns : DataFrame\n",
    "        Returns for each ticker and date\n",
    "\n",
    "    Returns\n",
    "    -------\n",
    "    cumulative_returns : Pandas Series\n",
    "        Cumulative returns for each date\n",
    "    \"\"\"\n",
    "    #TODO: Implement function\n",
    "    \n",
    "    return None\n",
    "\n",
    "project_tests.test_calculate_cumulative_returns(calculate_cumulative_returns)"
   ]
  },
  {
   "cell_type": "markdown",
   "metadata": {},
   "source": [
    "### 查看数据\n",
    "使用 `calculate_cumulative_returns` 生成 ETF 和指数累积收益率并比较二者。"
   ]
  },
  {
   "cell_type": "code",
   "execution_count": null,
   "metadata": {},
   "outputs": [],
   "source": [
    "index_weighted_cumulative_returns = calculate_cumulative_returns(index_weighted_returns)\n",
    "etf_weighted_cumulative_returns = calculate_cumulative_returns(etf_weighted_returns)\n",
    "project_helper.plot_benchmark_returns(index_weighted_cumulative_returns, etf_weighted_cumulative_returns, 'Smart Beta ETF vs Index')"
   ]
  },
  {
   "cell_type": "markdown",
   "metadata": {},
   "source": [
    "## 跟踪误差\n",
    "为了检查 smart beta 投资组合的业绩，我们可以计算相对于指数的年化跟踪误差。实现 `tracking_error` 以返回 ETF 和基准之间的跟踪误差。\n",
    "\n",
    "我们将使用以下年化跟踪误差公式：\n",
    "$$ TE = \\sqrt{252} \\* SampleStdev(r\\_p - r\\_b) $$\n",
    "\n",
    "其中 $ r\\_p $ 是投资组合或 ETF 收益率，$ r\\_b $ 是基准收益率。\n",
    "\n",
    "_注意：在计算样本标准差时，自由度是 1，这是默认值。_"
   ]
  },
  {
   "cell_type": "code",
   "execution_count": null,
   "metadata": {},
   "outputs": [],
   "source": [
    "def tracking_error(benchmark_returns_by_date, etf_returns_by_date):\n",
    "    \"\"\"\n",
    "    Calculate the tracking error.\n",
    "\n",
    "    Parameters\n",
    "    ----------\n",
    "    benchmark_returns_by_date : Pandas Series\n",
    "        The benchmark returns for each date\n",
    "    etf_returns_by_date : Pandas Series\n",
    "        The ETF returns for each date\n",
    "\n",
    "    Returns\n",
    "    -------\n",
    "    tracking_error : float\n",
    "        The tracking error\n",
    "    \"\"\"\n",
    "    assert benchmark_returns_by_date.index.equals(etf_returns_by_date.index)\n",
    "    \n",
    "    #TODO: Implement function\n",
    "\n",
    "    return None\n",
    "\n",
    "project_tests.test_tracking_error(tracking_error)"
   ]
  },
  {
   "cell_type": "markdown",
   "metadata": {},
   "source": [
    "### 查看数据\n",
    "使用 `tracking_error` 生成跟踪误差。"
   ]
  },
  {
   "cell_type": "code",
   "execution_count": null,
   "metadata": {},
   "outputs": [],
   "source": [
    "smart_beta_tracking_error = tracking_error(np.sum(index_weighted_returns, 1), np.sum(etf_weighted_returns, 1))\n",
    "print('Smart Beta Tracking Error: {}'.format(smart_beta_tracking_error))"
   ]
  },
  {
   "cell_type": "markdown",
   "metadata": {},
   "source": [
    "# 第二部分：投资组合优化\n",
    "\n",
    "下面创建第二个投资组合。我们依然使用市值加权指数，但是与在第一部分创建的股息加权投资组合无关。\n",
    "\n",
    "我们希望最小化投资组合方差以及紧密跟踪市值加权指数。换句话说，我们希望最小化投资组合权重与指数权重之间的距离。\n",
    "\n",
    "$Minimize \\left [ \\sigma^2\\_p + \\lambda \\sqrt{\\sum\\_{1}^{m}(weight\\_i - indexWeight\\_i)^2} \\right  ]$ 其中 $m$ 是投资组合中的股票数量，$\\lambda$ 是一个缩放因子，你可以随意选择。\n",
    "\n",
    "为何这么做？投资者评估基金的一种方式是查看基金跟踪指数的效果。为了提高基金业绩，依然希望基金与指数的差异在一定范围内。基金跟踪基准业绩的一种方式是让资产权重与指数权重相似。我们预计，如果基金股票与基准股票一样，并且每支股票的权重与基准的也一样，那么基金的收益率应该与基准的相似。通过最小化投资组合风险和投资组合与基准权重之间距离的线性组合，我们希望平衡最小化投资组合方差这一目标与指数跟踪目标。 \n",
    "\n",
    "\n",
    "## 协方差\n",
    "实现 `get_covariance_returns` 以计算 `returns` 的协方差。我们将使用它计算投资组合方差。\n",
    "\n",
    "如果有 $m$ 支股票，协方差矩阵是一个 $m \\times m$ 矩阵，其中包含每对股票之间的协方差。我们可以使用 [`Numpy.cov`][3] 获得协方差。向其传入一个二维矩阵，每行代表股票，每列代表同一时期的观察值。对于任何 `NaN` 值，可以使用 [`DataFrame.fillna`][4] 函数将其替换为 0。\n",
    "\n",
    "协方差矩阵 $\\mathbf{P} = \n",
    "\\begin{bmatrix}\n",
    "\\sigma^2_{1,1} & ... & \\sigma^2_{1,m} \\\\ \n",
    "... & ... & ...\\\\\\\\\n",
    "\\sigma_{m,1} & ... & \\sigma^2_{m,m}  \\\\\\\\\n",
    "\\end{bmatrix}$"
   ]
  },
  {
   "cell_type": "code",
   "execution_count": null,
   "metadata": {},
   "outputs": [],
   "source": [
    "def get_covariance_returns(returns):\n",
    "    \"\"\"\n",
    "    Calculate covariance matrices.\n",
    "\n",
    "    Parameters\n",
    "    ----------\n",
    "    returns : DataFrame\n",
    "        Returns for each ticker and date\n",
    "\n",
    "    Returns\n",
    "    -------\n",
    "    returns_covariance  : 2 dimensional Ndarray\n",
    "        The covariance of the returns\n",
    "    \"\"\"\n",
    "    #TODO: Implement function\n",
    "    \n",
    "    return None\n",
    "\n",
    "project_tests.test_get_covariance_returns(get_covariance_returns)"
   ]
  },
  {
   "cell_type": "markdown",
   "metadata": {},
   "source": [
    "### 查看数据\n",
    "下面查看 `get_covariance_returns` 生成的协方差。"
   ]
  },
  {
   "cell_type": "code",
   "execution_count": null,
   "metadata": {},
   "outputs": [],
   "source": [
    "covariance_returns = get_covariance_returns(returns)\n",
    "covariance_returns = pd.DataFrame(covariance_returns, returns.columns, returns.columns)\n",
    "\n",
    "covariance_returns_correlation = np.linalg.inv(np.diag(np.sqrt(np.diag(covariance_returns))))\n",
    "covariance_returns_correlation = pd.DataFrame(\n",
    "    covariance_returns_correlation.dot(covariance_returns).dot(covariance_returns_correlation),\n",
    "    covariance_returns.index,\n",
    "    covariance_returns.columns)\n",
    "\n",
    "project_helper.plot_covariance_returns_correlation(\n",
    "    covariance_returns_correlation,\n",
    "    'Covariance Returns Correlation Matrix')"
   ]
  },
  {
   "cell_type": "markdown",
   "metadata": {},
   "source": [
    "### 投资组合方差\n",
    "我们可以将投资组合方差写成 $\\sigma^2\\_p = \\mathbf{x^T} \\mathbf{P} \\mathbf{x}$\n",
    "\n",
    "$\\mathbf{x^T} \\mathbf{P} \\mathbf{x}$ 称为二次型 。\n",
    "我们可以使用 cvxpy 函数 `quad_form(x,P)` 获得二次型。\n",
    "\n",
    "### 与指数权重之间的距离\n",
    "我们希望获得能紧密跟踪指数的投资组合权重。所以我们希望最小化二者之间的距离。\n",
    "根据勾股定理，在 x,y 平面中的两点之间的距离等于 x 和 y 距离的平方和再求平方根。将此定理延伸到任何维数后变成 L2 范数。所以：$\\sqrt{\\sum_{1}^{n}(weight_i - indexWeight_i)^2}$ ， 还可以写成 $\\left \\| \\mathbf{x} - \\mathbf{index} \\right \\|_2$。有一个 cvxpy 函数，叫做 [norm()][5]\n",
    "`norm(x, p=2, axis=None)`。默认情况下就是计算 L2 范数，所以需要传入一个参数，即投资组合权重与指数权重之间的差异。\n",
    "\n",
    "### 目标函数\n",
    "我们想要最小化投资组合方差以及投资组合权重与指数权重之间的距离。还需要选择一个 `scale` 常量，即表达式中的 $\\lambda$。\n",
    "\n",
    "$\\mathbf{x^T} \\mathbf{P} \\mathbf{x} + \\lambda \\left \\| \\mathbf{x} - \\mathbf{index} \\right \\|\\_2$\n",
    "\n",
    "\n",
    "它表示相对于最小化投资组合方差而言，最小化与指数之间差异的优先级是多少。如果 `scale` ($\\lambda$) 的值很大，你认为最小化差异的优先级更高，还是最小化方差的优先级更高？\n",
    "\n",
    "我们可以使用 cvxpy  `objective = cvx.Minimize()` 得出目标函数。你认为应该向此函数传入什么？\n",
    "\n",
    "\n",
    "\n",
    "### 约束条件\n",
    "还可以使用列表定义约束条件。例如，如果你希望权重之和为 1，则 $\\sum\\_{1}^{n}x = 1$。并且可能需要只做多头寸，也就是不做空，所以权重不能为负。所以对所有 $i$ 来说，$x\\_i \\>0 $，可以将变量另存为 `[x >= 0, sum(x) == 1]`，其中 x 是用 `cvx.Variable()` 创建的。\n",
    "\n",
    "### 优化\n",
    "设定目标函数和约束条件后，我们可以求解 $\\mathbf{x}$ 的值。\n",
    "cvxpy 具有构造函数 `Problem(objective, constraints)`，它返回一个 `Problem` 对象。\n",
    "\n",
    "`Problem` 对象具有函数 solve()，它返回解的最小值，即投资组合的最小方差。\n",
    "\n",
    "它还会更新向量 $\\mathbf{x}$。\n",
    "\n",
    "我们可以使用 `x.value` 查看得出最小投资组合方差的 $x\\_A$ 和 $x\\_B$ 值。"
   ]
  },
  {
   "cell_type": "code",
   "execution_count": null,
   "metadata": {},
   "outputs": [],
   "source": [
    "import cvxpy as cvx\n",
    "\n",
    "def get_optimal_weights(covariance_returns, index_weights, scale=2.0):\n",
    "    \"\"\"\n",
    "    Find the optimal weights.\n",
    "\n",
    "    Parameters\n",
    "    ----------\n",
    "    covariance_returns : 2 dimensional Ndarray\n",
    "        The covariance of the returns\n",
    "    index_weights : Pandas Series\n",
    "        Index weights for all tickers at a period in time\n",
    "    scale : int\n",
    "        The penalty factor for weights the deviate from the index \n",
    "    Returns\n",
    "    -------\n",
    "    x : 1 dimensional Ndarray\n",
    "        The solution for x\n",
    "    \"\"\"\n",
    "    assert len(covariance_returns.shape) == 2\n",
    "    assert len(index_weights.shape) == 1\n",
    "    assert covariance_returns.shape[0] == covariance_returns.shape[1]  == index_weights.shape[0]\n",
    "\n",
    "    #TODO: Implement function\n",
    "    \n",
    "    return None\n",
    "\n",
    "project_tests.test_get_optimal_weights(get_optimal_weights)"
   ]
  },
  {
   "cell_type": "markdown",
   "metadata": {},
   "source": [
    "## 优化的投资组合\n",
    "使用 `get_optimal_weights` 函数生成不会再平衡的最优 ETF 权重。我们可以传入整个历史数据的协方差。还需要传入一组指数权重。我们将使用一段时间的平均指数权重。"
   ]
  },
  {
   "cell_type": "code",
   "execution_count": null,
   "metadata": {},
   "outputs": [],
   "source": [
    "raw_optimal_single_rebalance_etf_weights = get_optimal_weights(covariance_returns.values, index_weights.iloc[-1])\n",
    "optimal_single_rebalance_etf_weights = pd.DataFrame(\n",
    "    np.tile(raw_optimal_single_rebalance_etf_weights, (len(returns.index), 1)),\n",
    "    returns.index,\n",
    "    returns.columns)"
   ]
  },
  {
   "cell_type": "markdown",
   "metadata": {},
   "source": [
    "设定 ETF 权重后，将其与指数权重进行比较。运行以下单元格，以计算 ETF 收益率并与指数收益率进行比较。"
   ]
  },
  {
   "cell_type": "code",
   "execution_count": null,
   "metadata": {},
   "outputs": [],
   "source": [
    "optim_etf_returns = generate_weighted_returns(returns, optimal_single_rebalance_etf_weights)\n",
    "optim_etf_cumulative_returns = calculate_cumulative_returns(optim_etf_returns)\n",
    "project_helper.plot_benchmark_returns(index_weighted_cumulative_returns, optim_etf_cumulative_returns, 'Optimized ETF vs Index')\n",
    "\n",
    "optim_etf_tracking_error = tracking_error(np.sum(index_weighted_returns, 1), np.sum(optim_etf_returns, 1))\n",
    "print('Optimized ETF Tracking Error: {}'.format(optim_etf_tracking_error))"
   ]
  },
  {
   "cell_type": "markdown",
   "metadata": {},
   "source": [
    "## 过段时间后再平衡投资组合\n",
    "单个优化 ETF 投资组合在整个历史记录中使用了相同的权重。这个权重对于整个时期来说可能不是最优权重。我们对相同时期的投资组合进行再平衡，而不使用相同的权重。实现 `rebalance_portfolio` 以再平衡投资组合。\n",
    "\n",
    "每隔 n 天（由 `shift_size` 确定）再平衡投资组合。再平衡时，你应该查看过去特定天数的数据（由 `chunk_size` 表示）。根据这些数据使用 `get_optimal_weights` 和 `get_covariance_returns` 计算最优权重。"
   ]
  },
  {
   "cell_type": "code",
   "execution_count": null,
   "metadata": {},
   "outputs": [],
   "source": [
    "def rebalance_portfolio(returns, index_weights, shift_size, chunk_size):\n",
    "    \"\"\"\n",
    "    Get weights for each rebalancing of the portfolio.\n",
    "\n",
    "    Parameters\n",
    "    ----------\n",
    "    returns : DataFrame\n",
    "        Returns for each ticker and date\n",
    "    index_weights : DataFrame\n",
    "        Index weight for each ticker and date\n",
    "    shift_size : int\n",
    "        The number of days between each rebalance\n",
    "    chunk_size : int\n",
    "        The number of days to look in the past for rebalancing\n",
    "\n",
    "    Returns\n",
    "    -------\n",
    "    all_rebalance_weights  : list of Ndarrays\n",
    "        The ETF weights for each point they are rebalanced\n",
    "    \"\"\"\n",
    "    assert returns.index.equals(index_weights.index)\n",
    "    assert returns.columns.equals(index_weights.columns)\n",
    "    assert shift_size > 0\n",
    "    assert chunk_size >= 0\n",
    "    \n",
    "    #TODO: Implement function\n",
    "    \n",
    "    return None\n",
    "\n",
    "project_tests.test_rebalance_portfolio(rebalance_portfolio)"
   ]
  },
  {
   "cell_type": "markdown",
   "metadata": {},
   "source": [
    "运行以下单元格以使用 `rebalance_portfolio` 再平衡投资组合。"
   ]
  },
  {
   "cell_type": "code",
   "execution_count": null,
   "metadata": {},
   "outputs": [],
   "source": [
    "chunk_size = 250\n",
    "shift_size = 5\n",
    "all_rebalance_weights = rebalance_portfolio(returns, index_weights, shift_size, chunk_size)"
   ]
  },
  {
   "cell_type": "markdown",
   "metadata": {},
   "source": [
    "## 投资组合周转率\n",
    "再平衡投资组合后，我们需要一个指标来衡量再平衡投资组合的成本。实现 `get_portfolio_turnover` 以计算年度投资组合周转率。我们将使用在教室中用到的公式：\n",
    "\n",
    "$ AnnualizedTurnover =\\frac{SumTotalTurnover}{NumberOfRebalanceEvents} \\* NumberofRebalanceEventsPerYear $\n",
    "\n",
    "$ SumTotalTurnover =\\sum_{t,n}{\\left | x_{t,n} - x_{t+1,n} \\right |} $ 其中 $ x_{t,n} $ 是股权 $ n $ 在时间 $ t $ 的权重。\n",
    "\n",
    "$ SumTotalTurnover $ 是 $ \\sum \\left | x_{t_1,n} - x_{t\\_2,n} \\right | $ 的另一种书写方式。"
   ]
  },
  {
   "cell_type": "code",
   "execution_count": null,
   "metadata": {},
   "outputs": [],
   "source": [
    "def get_portfolio_turnover(all_rebalance_weights, shift_size, rebalance_count, n_trading_days_in_year=252):\n",
    "    \"\"\"\n",
    "    Calculage portfolio turnover.\n",
    "\n",
    "    Parameters\n",
    "    ----------\n",
    "    all_rebalance_weights : list of Ndarrays\n",
    "        The ETF weights for each point they are rebalanced\n",
    "    shift_size : int\n",
    "        The number of days between each rebalance\n",
    "    rebalance_count : int\n",
    "        Number of times the portfolio was rebalanced\n",
    "    n_trading_days_in_year: int\n",
    "        Number of trading days in a year\n",
    "\n",
    "    Returns\n",
    "    -------\n",
    "    portfolio_turnover  : float\n",
    "        The portfolio turnover\n",
    "    \"\"\"\n",
    "    assert shift_size > 0\n",
    "    assert rebalance_count > 0\n",
    "    \n",
    "    #TODO: Implement function\n",
    "    \n",
    "    return None\n",
    "\n",
    "project_tests.test_get_portfolio_turnover(get_portfolio_turnover)"
   ]
  },
  {
   "cell_type": "markdown",
   "metadata": {},
   "source": [
    "运行以下单元格以使用  `get_portfolio turnover` 获取投资组合周转率。"
   ]
  },
  {
   "cell_type": "code",
   "execution_count": null,
   "metadata": {},
   "outputs": [],
   "source": [
    "print(get_portfolio_turnover(all_rebalance_weights, shift_size, len(all_rebalance_weights) - 1))"
   ]
  },
  {
   "cell_type": "markdown",
   "metadata": {},
   "source": [
    "搞定了！你已经在第一部分构建了一个 smart beta 投资组合，并且在第二部分优化了该投资组合。现在可以提交项目了。\n",
    "\n",
    "## 提交项目\n",
    "完成项目后，就可以提交了。请点击右下角的提交按钮。我们的审阅专家将对项目打分（通过或不通过）并提供反馈。在等待反馈期间，你可以继续学习下个部分。\n",
    "\n",
    "[1]:\thttps://pandas.pydata.org/\n",
    "[2]:\thttp://www.numpy.org/\n",
    "[3]:\thttps://docs.scipy.org/doc/numpy/reference/generated/numpy.cov.html\n",
    "[4]:\thttps://pandas.pydata.org/pandas-docs/stable/generated/pandas.DataFrame.fillna.html\n",
    "[5]:\thttps://www.cvxpy.org/api_reference/cvxpy.atoms.other_atoms.html#norm"
   ]
  }
 ],
 "metadata": {
  "kernelspec": {
   "display_name": "Python 3",
   "language": "python",
   "name": "python3"
  },
  "language_info": {
   "codemirror_mode": {
    "name": "ipython",
    "version": 3
   },
   "file_extension": ".py",
   "mimetype": "text/x-python",
   "name": "python",
   "nbconvert_exporter": "python",
   "pygments_lexer": "ipython3",
   "version": "3.6.3"
  }
 },
 "nbformat": 4,
 "nbformat_minor": 2
}
